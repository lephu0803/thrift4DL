{
 "cells": [
  {
   "cell_type": "code",
   "execution_count": null,
   "metadata": {},
   "outputs": [],
   "source": [
    "import os\n",
    "import cv2\n",
    "import numpy as np\n",
    "from core.utils import constant as cons\n",
    "from core.face_detector import FaceDetector\n",
    "from core.utils import common"
   ]
  },
  {
   "cell_type": "code",
   "execution_count": null,
   "metadata": {},
   "outputs": [],
   "source": [
    "os.environ['HTTPS_PROXY'] = '10.40.34.14:81'\n",
    "os.environ['HTTP_PROXY'] = '10.40.34.14:81'\n",
    "os.environ['https_proxy'] = '10.40.34.14:81'\n",
    "os.environ['http_proxy'] = '10.40.34.14:81'\n",
    "os.environ['MXNET_CUDNN_AUTOTUNE_DEFAULT'] = '0'\n",
    "# export MXNET_CUDNN_AUTOTUNE_DEFAULT=0\n",
    "\n",
    "MODEL_PATH = cons.MODEL_PATH\n",
    "detector = FaceDetector(model_path=MODEL_PATH, gpu_id=2)\n",
    "\n",
    "# The detector automatically keep image's ratio while inference so \n",
    "# no need to resize or rescale the original image\n",
    "list_url_to_detect = [\"https://f10.group.zp.zdn.vn/1666445185667442009/846cb7955c5fa501fc4e.jpg\"]\n",
    "for url in list_url_to_detect:\n",
    "    img_arr = common.load_image_from_url(url)\n",
    "    bboxes, landmarks, scale_ratio = detector.detect(img_arr)\n",
    "    print(bboxes, landmarks, scale_ratio)\n",
    "    \"\"\" @bboxes: x1, y1, x2, y2, predict_score\n",
    "    \"\"\""
   ]
  },
  {
   "cell_type": "code",
   "execution_count": null,
   "metadata": {},
   "outputs": [],
   "source": [
    "scale_ratio"
   ]
  },
  {
   "cell_type": "code",
   "execution_count": null,
   "metadata": {},
   "outputs": [],
   "source": [
    "bboxes"
   ]
  },
  {
   "cell_type": "code",
   "execution_count": null,
   "metadata": {},
   "outputs": [],
   "source": [
    "img_arr.shape"
   ]
  },
  {
   "cell_type": "code",
   "execution_count": null,
   "metadata": {},
   "outputs": [],
   "source": [
    "from ailabtools.utils.common_import import *"
   ]
  },
  {
   "cell_type": "code",
   "execution_count": null,
   "metadata": {},
   "outputs": [],
   "source": [
    "bboxes_scale = (bboxes / scale_ratio).astype(np.int)\n",
    "x1, y1, x2, y2, _ = bboxes_scale[0]\n",
    "plt.imshow(img_arr[y1:y2, x1:x2, :])"
   ]
  },
  {
   "cell_type": "code",
   "execution_count": null,
   "metadata": {},
   "outputs": [],
   "source": [
    "landmarks / scale_ratio"
   ]
  },
  {
   "cell_type": "code",
   "execution_count": null,
   "metadata": {},
   "outputs": [],
   "source": [
    "bboxes_scale[1]"
   ]
  },
  {
   "cell_type": "code",
   "execution_count": null,
   "metadata": {},
   "outputs": [],
   "source": []
  },
  {
   "cell_type": "code",
   "execution_count": null,
   "metadata": {},
   "outputs": [],
   "source": [
    "bboxes.shape"
   ]
  },
  {
   "cell_type": "code",
   "execution_count": null,
   "metadata": {},
   "outputs": [],
   "source": [
    "bboxes"
   ]
  },
  {
   "cell_type": "code",
   "execution_count": null,
   "metadata": {},
   "outputs": [],
   "source": [
    "bboxes[:, :4] = (bboxes[:, :4] / scale_ratio).astype(np.int)"
   ]
  },
  {
   "cell_type": "code",
   "execution_count": null,
   "metadata": {},
   "outputs": [],
   "source": [
    "bboxes"
   ]
  },
  {
   "cell_type": "code",
   "execution_count": null,
   "metadata": {},
   "outputs": [],
   "source": []
  }
 ],
 "metadata": {
  "kernelspec": {
   "display_name": "dl-py3",
   "language": "python",
   "name": "dl-py3"
  },
  "language_info": {
   "codemirror_mode": {
    "name": "ipython",
    "version": 3
   },
   "file_extension": ".py",
   "mimetype": "text/x-python",
   "name": "python",
   "nbconvert_exporter": "python",
   "pygments_lexer": "ipython3",
   "version": "3.6.8"
  }
 },
 "nbformat": 4,
 "nbformat_minor": 4
}
