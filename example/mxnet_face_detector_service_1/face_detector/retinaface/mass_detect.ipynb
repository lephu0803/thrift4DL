{
 "cells": [
  {
   "cell_type": "code",
   "execution_count": null,
   "metadata": {},
   "outputs": [],
   "source": [
    "%load_ext autoreload\n",
    "%autoreload 2\n",
    "\n",
    "import os\n",
    "import cv2\n",
    "import numpy as np\n",
    "from core.utils import constant as cons\n",
    "from core.face_detector import FaceDetector\n",
    "from core.utils import common\n",
    "\n",
    "os.environ['HTTPS_PROXY'] = '10.40.34.14:81'\n",
    "os.environ['HTTP_PROXY'] = '10.40.34.14:81'\n",
    "os.environ['https_proxy'] = '10.40.34.14:81'\n",
    "os.environ['http_proxy'] = '10.40.34.14:81'"
   ]
  },
  {
   "cell_type": "code",
   "execution_count": null,
   "metadata": {},
   "outputs": [],
   "source": [
    "os.environ['HTTPS_PROXY'] = '10.40.34.14:81'\n",
    "os.environ['HTTP_PROXY'] = '10.40.34.14:81'\n",
    "os.environ['https_proxy'] = '10.40.34.14:81'\n",
    "os.environ['http_proxy'] = '10.40.34.14:81'\n",
    "MODEL_PATH = cons.MODEL_PATH\n",
    "IMG_SIZE = (1440, 1440) # image size used to inference.\n",
    "\n",
    "detector = FaceDetector(model_path=MODEL_PATH, gpu_id=2)\n",
    "\n",
    "list_url_to_detect = [\"https://f10.group.zp.zdn.vn/1666445185667442009/846cb7955c5fa501fc4e.jpg\"]\n",
    "for url in list_url_to_detect:\n",
    "    img_arr = common.load_image_from_url(url)\n",
    "    img_arr = cv2.resize(img_arr, IMG_SIZE)\n",
    "    bboxes, landmarks = detector.detect(img_arr, inference_image_shape=(*IMG_SIZE, 3))\n",
    "    print(bboxes, landmarks)\n",
    "    \"\"\" @bboxes: x1, y1, x2, y2, predict_score\n",
    "    \"\"\""
   ]
  },
  {
   "cell_type": "code",
   "execution_count": null,
   "metadata": {},
   "outputs": [],
   "source": []
  },
  {
   "cell_type": "code",
   "execution_count": null,
   "metadata": {},
   "outputs": [],
   "source": [
    "# MODEL_PATH = cons.MODEL_PATH\n",
    "MODEL_PATH = \"../ckpt/retinaface/retinaface-R18/resnet18,0\"\n",
    "IMG_SIZE = (1080, 1920)"
   ]
  },
  {
   "cell_type": "code",
   "execution_count": null,
   "metadata": {},
   "outputs": [],
   "source": []
  },
  {
   "cell_type": "code",
   "execution_count": null,
   "metadata": {},
   "outputs": [],
   "source": [
    "from ailabtools.mass_detector import mass_detector\n",
    "import time\n",
    "\n",
    "class FACE_mass_detector(mass_detector):\n",
    "    def get_item(self, index):\n",
    "        url = self.input_data[index]\n",
    "        img_arr = common.load_image_from_url(url)\n",
    "        img_arr = cv2.resize(img_arr, IMG_SIZE)\n",
    "        return img_arr\n",
    "\n",
    "    def batch_from_items(self, items):\n",
    "        return np.array(items)\n",
    "\n",
    "    def load_model(self):\n",
    "        return FaceDetector(model_path=MODEL_PATH)\n",
    "\n",
    "    def predict(self, model, batch):\n",
    "        return model.detect(batch, inference_image_shape=(*IMG_SIZE, 3))\n",
    "\n",
    "    def save_prediction(self, indexs, predictions):\n",
    "        bboxes, landmarks = predictions\n",
    "        np.save(\"./save_dir/save_time_{}.npy\".format(time.time()), {\"indexes\": indexs, \"bboxes\": bboxes, \"landmarks\": landmarks})"
   ]
  },
  {
   "cell_type": "code",
   "execution_count": null,
   "metadata": {},
   "outputs": [],
   "source": [
    "#load input data"
   ]
  },
  {
   "cell_type": "code",
   "execution_count": null,
   "metadata": {},
   "outputs": [],
   "source": [
    "with open(\"example.txt\") as f:\n",
    "    input_data = f.readlines()\n",
    "input_data = [line[:-1] for line in input_data]\n",
    "input_data = input_data*10000\n",
    "len(input_data)"
   ]
  },
  {
   "cell_type": "code",
   "execution_count": null,
   "metadata": {},
   "outputs": [],
   "source": []
  },
  {
   "cell_type": "code",
   "execution_count": null,
   "metadata": {},
   "outputs": [],
   "source": [
    "gpu_schedule = [\"2\"]\n",
    "face_mass_detector = FACE_mass_detector(input_data, gpu_schedule, \n",
    "                                        batch_size=10, \n",
    "                                        num_producer=5, \n",
    "                                        max_queue_batch_len=10, \n",
    "                                        num_verbose=1000, \n",
    "                                        show_warning=True)"
   ]
  },
  {
   "cell_type": "code",
   "execution_count": null,
   "metadata": {},
   "outputs": [],
   "source": [
    "face_mass_detector.run()"
   ]
  },
  {
   "cell_type": "code",
   "execution_count": null,
   "metadata": {},
   "outputs": [],
   "source": []
  }
 ],
 "metadata": {
  "kernelspec": {
   "display_name": "dl-py3",
   "language": "python",
   "name": "dl-py3"
  },
  "language_info": {
   "codemirror_mode": {
    "name": "ipython",
    "version": 3
   },
   "file_extension": ".py",
   "mimetype": "text/x-python",
   "name": "python",
   "nbconvert_exporter": "python",
   "pygments_lexer": "ipython3",
   "version": "3.6.8"
  }
 },
 "nbformat": 4,
 "nbformat_minor": 4
}
