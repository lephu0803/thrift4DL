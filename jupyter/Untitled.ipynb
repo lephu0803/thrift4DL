{
 "cells": [
  {
   "cell_type": "code",
   "execution_count": null,
   "metadata": {},
   "outputs": [],
   "source": [
    "# Fix MACOs limit request:\n",
    "# https://medium.com/mindful-technology/too-many-open-files-limit-ulimit-on-mac-os-x-add0f1bfddde"
   ]
  },
  {
   "cell_type": "code",
   "execution_count": 11,
   "metadata": {},
   "outputs": [],
   "source": [
    "import sys\n",
    "sys.path.append('/media/congvm/DATA/Workspace/thrift4DL/gen-py/thrift4DL')\n",
    "import pprint\n",
    "if sys.version_info[0] > 2:\n",
    "    from urllib.parse import urlparse\n",
    "else:\n",
    "    from urlparse import urlparse\n",
    "from thrift.transport import TTransport, TSocket, TSSLSocket, THttpClient\n",
    "from thrift.protocol.TBinaryProtocol import TBinaryProtocol\n",
    "\n",
    "import Thrift4DLService\n",
    "from ttypes import *\n",
    "import json\n",
    "\n",
    "\n",
    "def request_thrift(x):\n",
    "    host = 'localhost'\n",
    "    port = 9090\n",
    "    socket = TSocket.TSocket(host, port)\n",
    "    transport = TTransport.TFramedTransport(socket)\n",
    "    protocol = TBinaryProtocol(transport)\n",
    "    client = Thrift4DLService.Client(protocol)\n",
    "    transport.open()\n",
    "    ret = None\n",
    "    try:\n",
    "        request_dict = {\"value\": 10}\n",
    "        request_json = json.dumps(request_dict)\n",
    "        ret = client.predict(request_json,)\n",
    "    except Exception as e:\n",
    "        print(e)\n",
    "    transport.close()\n",
    "    return ret\n",
    "\n",
    "\n",
    "\n",
    "def ping_thrift(x):\n",
    "    host = 'localhost'\n",
    "    port = 9090\n",
    "    socket = TSocket.TSocket(host, port)\n",
    "    transport = TTransport.TFramedTransport(socket)\n",
    "    protocol = TBinaryProtocol(transport)\n",
    "    client = Thrift4DLService.Client(protocol)\n",
    "    transport.open()\n",
    "    ret = None\n",
    "    try:\n",
    "        ret = client.ping()\n",
    "    except Exception as e:\n",
    "        print(e)\n",
    "    transport.close()\n",
    "    return ret"
   ]
  },
  {
   "cell_type": "code",
   "execution_count": 2,
   "metadata": {},
   "outputs": [
    {
     "name": "stdout",
     "output_type": "stream",
     "text": [
      "1.42 ms ± 0 ns per loop (mean ± std. dev. of 1 run, 1000 loops each)\n"
     ]
    }
   ],
   "source": [
    "%timeit -r 1 -n 1000 request_thrift(1)"
   ]
  },
  {
   "cell_type": "code",
   "execution_count": 6,
   "metadata": {},
   "outputs": [
    {
     "data": {
      "text/plain": [
       "TResult(error_code=0, error_message=None, response='{\"value\": 20.0}')"
      ]
     },
     "execution_count": 6,
     "metadata": {},
     "output_type": "execute_result"
    }
   ],
   "source": [
    "request_thrift(1)"
   ]
  },
  {
   "cell_type": "code",
   "execution_count": 7,
   "metadata": {},
   "outputs": [],
   "source": [
    "from ailabtools.ailab_multiprocessing import pool_worker"
   ]
  },
  {
   "cell_type": "code",
   "execution_count": 8,
   "metadata": {},
   "outputs": [
    {
     "name": "stderr",
     "output_type": "stream",
     "text": [
      "100%|██████████| 100/100 [00:00<00:00, 1765.49it/s]\n",
      "100%|██████████| 100/100 [00:00<00:00, 1723.51it/s]\n",
      "100%|██████████| 100/100 [00:00<00:00, 1778.71it/s]\n",
      "100%|██████████| 100/100 [00:00<00:00, 1828.72it/s]\n",
      "100%|██████████| 100/100 [00:00<00:00, 1828.43it/s]\n"
     ]
    },
    {
     "name": "stdout",
     "output_type": "stream",
     "text": [
      "132 ms ± 3.41 ms per loop (mean ± std. dev. of 5 runs, 1 loop each)\n"
     ]
    }
   ],
   "source": [
    "%timeit -n 1 -r 5 ret = pool_worker(target=request_thrift, inputs=[1]*100, num_worker=10)"
   ]
  },
  {
   "cell_type": "code",
   "execution_count": 9,
   "metadata": {},
   "outputs": [
    {
     "name": "stderr",
     "output_type": "stream",
     "text": [
      "100%|██████████| 100/100 [00:00<00:00, 1598.66it/s]\n"
     ]
    }
   ],
   "source": [
    "ret = pool_worker(target=request_thrift, inputs=[1]*100, num_worker=10)"
   ]
  },
  {
   "cell_type": "code",
   "execution_count": null,
   "metadata": {},
   "outputs": [],
   "source": [
    "ret"
   ]
  },
  {
   "cell_type": "code",
   "execution_count": null,
   "metadata": {},
   "outputs": [],
   "source": []
  },
  {
   "cell_type": "code",
   "execution_count": 13,
   "metadata": {},
   "outputs": [
    {
     "name": "stdout",
     "output_type": "stream",
     "text": [
      "'Client' object has no attribute 'ping'\n"
     ]
    }
   ],
   "source": [
    "ping_thrift(1)"
   ]
  },
  {
   "cell_type": "code",
   "execution_count": null,
   "metadata": {},
   "outputs": [],
   "source": []
  }
 ],
 "metadata": {
  "kernelspec": {
   "display_name": "Python 3",
   "language": "python",
   "name": "python3"
  },
  "language_info": {
   "codemirror_mode": {
    "name": "ipython",
    "version": 3
   },
   "file_extension": ".py",
   "mimetype": "text/x-python",
   "name": "python",
   "nbconvert_exporter": "python",
   "pygments_lexer": "ipython3",
   "version": "3.7.4"
  }
 },
 "nbformat": 4,
 "nbformat_minor": 4
}
