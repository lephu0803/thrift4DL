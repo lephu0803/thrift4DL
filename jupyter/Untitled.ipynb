{
 "cells": [
  {
   "cell_type": "code",
   "execution_count": 6,
   "metadata": {},
   "outputs": [],
   "source": [
    "# Fix MACOs limit request:\n",
    "# https://medium.com/mindful-technology/too-many-open-files-limit-ulimit-on-mac-os-x-add0f1bfddde"
   ]
  },
  {
   "cell_type": "code",
   "execution_count": 1,
   "metadata": {},
   "outputs": [],
   "source": [
    "import sys\n",
    "sys.path.append('/Users/congvo/Workspace/thrift4DL/gen-py/thrift4DL/')\n",
    "import pprint\n",
    "if sys.version_info[0] > 2:\n",
    "    from urllib.parse import urlparse\n",
    "else:\n",
    "    from urlparse import urlparse\n",
    "from thrift.transport import TTransport, TSocket, TSSLSocket, THttpClient\n",
    "from thrift.protocol.TBinaryProtocol import TBinaryProtocol\n",
    "\n",
    "import Thrift4DLService\n",
    "from ttypes import *\n",
    "import json\n",
    "\n",
    "\n",
    "def request_thrift(host = 'localhost', port = 9090):\n",
    "    socket = TSocket.TSocket(host, port)\n",
    "    transport = TTransport.TFramedTransport(socket)\n",
    "    protocol = TBinaryProtocol(transport)\n",
    "    client = Thrift4DLService.Client(protocol)\n",
    "    transport.open()\n",
    "    try:\n",
    "        request_dict = {\"value\": 10}\n",
    "        request_json = json.dumps(request_dict)\n",
    "#         print(client.predict(request_json,))\n",
    "    except Exception as e:\n",
    "        print(e)\n",
    "    transport.close()\n"
   ]
  },
  {
   "cell_type": "code",
   "execution_count": null,
   "metadata": {},
   "outputs": [],
   "source": []
  },
  {
   "cell_type": "code",
   "execution_count": 5,
   "metadata": {},
   "outputs": [
    {
     "name": "stdout",
     "output_type": "stream",
     "text": [
      "561 µs ± 9.37 µs per loop (mean ± std. dev. of 7 runs, 500 loops each)\n"
     ]
    }
   ],
   "source": [
    "%timeit -n 500 request_thrift()"
   ]
  },
  {
   "cell_type": "code",
   "execution_count": null,
   "metadata": {},
   "outputs": [],
   "source": []
  }
 ],
 "metadata": {
  "kernelspec": {
   "display_name": "Python 3",
   "language": "python",
   "name": "python3"
  },
  "language_info": {
   "codemirror_mode": {
    "name": "ipython",
    "version": 3
   },
   "file_extension": ".py",
   "mimetype": "text/x-python",
   "name": "python",
   "nbconvert_exporter": "python",
   "pygments_lexer": "ipython3",
   "version": "3.7.4"
  }
 },
 "nbformat": 4,
 "nbformat_minor": 4
}
