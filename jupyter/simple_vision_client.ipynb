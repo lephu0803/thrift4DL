{
 "cells": [
  {
   "cell_type": "code",
   "execution_count": 1,
   "metadata": {},
   "outputs": [],
   "source": [
    "from thrift4DL.client import ClientDev, VisionClient\n",
    "import json\n",
    "import numpy as np\n",
    "\n",
    "from zaailabcorelib.ztools.image import hexify_image"
   ]
  },
  {
   "cell_type": "code",
   "execution_count": 2,
   "metadata": {},
   "outputs": [],
   "source": [
    "img_arr = np.ones((224, 224, 3))"
   ]
  },
  {
   "cell_type": "code",
   "execution_count": 3,
   "metadata": {},
   "outputs": [],
   "source": [
    "hex_image = hexify_image(img_arr, ext='png')"
   ]
  },
  {
   "cell_type": "code",
   "execution_count": 4,
   "metadata": {},
   "outputs": [],
   "source": [
    "client = VisionClient(host='localhost', port='9090', mode='json')"
   ]
  },
  {
   "cell_type": "code",
   "execution_count": 5,
   "metadata": {},
   "outputs": [
    {
     "name": "stdout",
     "output_type": "stream",
     "text": [
      "Traceback (most recent call last):\n",
      "  File \"/Users/congvo/.virtualenvs/dl-py3/lib/python3.7/site-packages/thrift4DL-2.1-py3.7.egg/thrift4DL/client/client.py\", line 68, in predict\n",
      "    ret = self.client.predict(image_binary)\n",
      "  File \"/Users/congvo/.virtualenvs/dl-py3/lib/python3.7/site-packages/thrift4DL-2.1-py3.7.egg/thrift4DL/client/thrift4DL/Thrift4DLService.py\", line 45, in predict\n",
      "    return self.recv_predict()\n",
      "  File \"/Users/congvo/.virtualenvs/dl-py3/lib/python3.7/site-packages/thrift4DL-2.1-py3.7.egg/thrift4DL/client/thrift4DL/Thrift4DLService.py\", line 62, in recv_predict\n",
      "    raise x\n",
      "thrift.Thrift.TApplicationException: Internal error\n",
      "\n"
     ]
    }
   ],
   "source": [
    "ret = client.predict(hex_image)"
   ]
  },
  {
   "cell_type": "code",
   "execution_count": 55,
   "metadata": {},
   "outputs": [],
   "source": [
    "from thrift.TSerialization import serialize\n",
    "from thrift.protocol.TJSONProtocol import TSimpleJSONProtocolFactory\n",
    "\n",
    "def thrift_to_json(thrift_object):\n",
    "    return json.loads(serialize(thrift_object, protocol_factory=TSimpleJSONProtocolFactory()).decode(\"utf-8\"))"
   ]
  },
  {
   "cell_type": "code",
   "execution_count": 57,
   "metadata": {},
   "outputs": [
    {
     "data": {
      "text/plain": [
       "{'error_code': 0, 'response': '{\"value\": 20.0}'}"
      ]
     },
     "execution_count": 57,
     "metadata": {},
     "output_type": "execute_result"
    }
   ],
   "source": [
    "thrift_to_json(ret)"
   ]
  },
  {
   "cell_type": "code",
   "execution_count": null,
   "metadata": {},
   "outputs": [],
   "source": []
  }
 ],
 "metadata": {
  "kernelspec": {
   "display_name": "Python 3",
   "language": "python",
   "name": "python3"
  },
  "language_info": {
   "codemirror_mode": {
    "name": "ipython",
    "version": 3
   },
   "file_extension": ".py",
   "mimetype": "text/x-python",
   "name": "python",
   "nbconvert_exporter": "python",
   "pygments_lexer": "ipython3",
   "version": "3.6.8"
  }
 },
 "nbformat": 4,
 "nbformat_minor": 4
}
