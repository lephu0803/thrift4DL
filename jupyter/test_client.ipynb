{
 "cells": [
  {
   "cell_type": "code",
   "execution_count": null,
   "metadata": {},
   "outputs": [],
   "source": [
    "# Fix MACOs limit request:\n",
    "# https://medium.com/mindful-technology/too-many-open-files-limit-ulimit-on-mac-os-x-add0f1bfddde"
   ]
  },
  {
   "cell_type": "code",
   "execution_count": 1,
   "metadata": {},
   "outputs": [],
   "source": [
    "import sys\n",
    "sys.path.append('/media/congvm/DATA/Workspace/thrift4DL/gen-py/thrift4DL')\n",
    "import pprint\n",
    "if sys.version_info[0] > 2:\n",
    "    from urllib.parse import urlparse\n",
    "else:\n",
    "    from urlparse import urlparse\n",
    "from thrift.transport import TTransport, TSocket, TSSLSocket, THttpClient\n",
    "from thrift.protocol.TBinaryProtocol import TBinaryProtocol\n",
    "\n",
    "import Thrift4DLService\n",
    "from ttypes import *\n",
    "import json\n",
    "\n",
    "\n",
    "def request_thrift(x):\n",
    "    host = 'localhost'\n",
    "    port = 9090\n",
    "    socket = TSocket.TSocket(host, port)\n",
    "    transport = TTransport.TFramedTransport(socket)\n",
    "    protocol = TBinaryProtocol(transport)\n",
    "    client = Thrift4DLService.Client(protocol)\n",
    "    transport.open()\n",
    "    ret = None\n",
    "    try:\n",
    "        request_dict = {\"value\": 10}\n",
    "        request_json = json.dumps(request_dict)\n",
    "        ret = client.predict(request_json,)\n",
    "    except Exception as e:\n",
    "        print(e)\n",
    "    transport.close()\n",
    "    return ret\n",
    "\n",
    "\n",
    "\n",
    "def ping_thrift(x):\n",
    "    host = 'localhost'\n",
    "    port = 9090\n",
    "    socket = TSocket.TSocket(host, port)\n",
    "    transport = TTransport.TFramedTransport(socket)\n",
    "    protocol = TBinaryProtocol(transport)\n",
    "    client = Thrift4DLService.Client(protocol)\n",
    "    transport.open()\n",
    "    ret = None\n",
    "    try:\n",
    "        ret = client.ping()\n",
    "    except Exception as e:\n",
    "        print(e)\n",
    "    transport.close()\n",
    "    return ret"
   ]
  },
  {
   "cell_type": "code",
   "execution_count": 3,
   "metadata": {},
   "outputs": [
    {
     "name": "stdout",
     "output_type": "stream",
     "text": [
      "1.44 ms ± 0 ns per loop (mean ± std. dev. of 1 run, 1000 loops each)\n"
     ]
    }
   ],
   "source": [
    "%timeit -r 1 -n 1000 request_thrift(1)"
   ]
  },
  {
   "cell_type": "code",
   "execution_count": 4,
   "metadata": {},
   "outputs": [
    {
     "data": {
      "text/plain": [
       "TResult(error_code=0, error_message=None, response='{\"value\": 20.0}')"
      ]
     },
     "execution_count": 4,
     "metadata": {},
     "output_type": "execute_result"
    }
   ],
   "source": [
    "request_thrift(1)"
   ]
  },
  {
   "cell_type": "code",
   "execution_count": 5,
   "metadata": {},
   "outputs": [],
   "source": [
    "from ailabtools.ailab_multiprocessing import pool_worker"
   ]
  },
  {
   "cell_type": "code",
   "execution_count": 27,
   "metadata": {},
   "outputs": [
    {
     "name": "stderr",
     "output_type": "stream",
     "text": [
      "\n",
      "  0%|          | 0/1000 [00:00<?, ?it/s]\u001b[A\n",
      " 11%|█         | 108/1000 [00:00<00:00, 1068.86it/s]\u001b[A\n",
      " 20%|██        | 204/1000 [00:00<00:00, 1031.71it/s]\u001b[A\n",
      " 34%|███▎      | 335/1000 [00:00<00:00, 1101.34it/s]\u001b[A\n",
      " 44%|████▎     | 435/1000 [00:00<00:00, 1064.70it/s]\u001b[A\n",
      " 54%|█████▍    | 540/1000 [00:00<00:00, 1059.21it/s]\u001b[A\n",
      " 66%|██████▌   | 655/1000 [00:00<00:00, 1083.50it/s]\u001b[A\n",
      " 78%|███████▊  | 778/1000 [00:00<00:00, 1119.55it/s]\u001b[A\n",
      "100%|██████████| 1000/1000 [00:00<00:00, 1119.77it/s][A\n",
      "\n",
      "  0%|          | 0/1000 [00:00<?, ?it/s]\u001b[A\n",
      " 10%|▉         | 96/1000 [00:00<00:00, 952.78it/s]\u001b[A\n",
      " 21%|██        | 208/1000 [00:00<00:00, 997.04it/s]\u001b[A\n",
      " 33%|███▎      | 333/1000 [00:00<00:00, 1059.74it/s]\u001b[A\n",
      " 46%|████▌     | 459/1000 [00:00<00:00, 1110.79it/s]\u001b[A\n",
      " 58%|█████▊    | 576/1000 [00:00<00:00, 1125.05it/s]\u001b[A\n",
      " 70%|███████   | 704/1000 [00:00<00:00, 1162.51it/s]\u001b[A\n",
      " 82%|████████▎ | 825/1000 [00:00<00:00, 1175.67it/s]\u001b[A\n",
      "100%|██████████| 1000/1000 [00:00<00:00, 1173.46it/s][A\n",
      "\n",
      "  0%|          | 0/1000 [00:00<?, ?it/s]\u001b[A\n",
      " 12%|█▏        | 120/1000 [00:00<00:00, 1185.99it/s]\u001b[A\n",
      " 26%|██▌       | 255/1000 [00:00<00:00, 1226.61it/s]\u001b[A\n",
      " 38%|███▊      | 381/1000 [00:00<00:00, 1235.92it/s]\u001b[A\n",
      " 52%|█████▏    | 516/1000 [00:00<00:00, 1263.79it/s]\u001b[A\n",
      " 66%|██████▌   | 655/1000 [00:00<00:00, 1293.53it/s]\u001b[A\n",
      " 78%|███████▊  | 775/1000 [00:00<00:00, 1262.95it/s]\u001b[A\n",
      "100%|██████████| 1000/1000 [00:00<00:00, 1297.29it/s][A\n",
      "\n",
      "  0%|          | 0/1000 [00:00<?, ?it/s]\u001b[A\n",
      " 10%|▉         | 97/1000 [00:00<00:00, 956.82it/s]\u001b[A\n",
      " 22%|██▏       | 223/1000 [00:00<00:00, 1028.06it/s]\u001b[A\n",
      " 36%|███▌      | 358/1000 [00:00<00:00, 1098.42it/s]\u001b[A\n",
      " 49%|████▊     | 487/1000 [00:00<00:00, 1148.81it/s]\u001b[A\n",
      " 61%|██████    | 610/1000 [00:00<00:00, 1169.02it/s]\u001b[A\n",
      " 74%|███████▎  | 736/1000 [00:00<00:00, 1194.90it/s]\u001b[A\n",
      " 86%|████████▌ | 856/1000 [00:00<00:00, 1193.57it/s]\u001b[A\n",
      "100%|██████████| 1000/1000 [00:00<00:00, 1221.06it/s][A\n",
      "\n",
      "  0%|          | 0/1000 [00:00<?, ?it/s]\u001b[A\n",
      " 12%|█▏        | 115/1000 [00:00<00:00, 1147.68it/s]\u001b[A\n",
      " 22%|██▏       | 220/1000 [00:00<00:00, 1113.02it/s]\u001b[A\n",
      " 34%|███▍      | 343/1000 [00:00<00:00, 1143.61it/s]\u001b[A\n",
      " 46%|████▌     | 457/1000 [00:00<00:00, 1133.73it/s]\u001b[A\n",
      " 59%|█████▊    | 586/1000 [00:00<00:00, 1172.54it/s]\u001b[A\n",
      " 72%|███████▏  | 715/1000 [00:00<00:00, 1203.90it/s]\u001b[A\n",
      " 82%|████████▏ | 823/1000 [00:00<00:00, 1120.41it/s]\u001b[A\n",
      "100%|██████████| 1000/1000 [00:00<00:00, 1136.19it/s][A"
     ]
    },
    {
     "name": "stdout",
     "output_type": "stream",
     "text": [
      "931 ms ± 37.6 ms per loop (mean ± std. dev. of 5 runs, 1 loop each)\n"
     ]
    },
    {
     "name": "stderr",
     "output_type": "stream",
     "text": [
      "\n"
     ]
    }
   ],
   "source": [
    "%timeit -n 1 -r 5 ret = pool_worker(target=request_thrift, inputs=[1]*1000, num_worker=10)"
   ]
  },
  {
   "cell_type": "code",
   "execution_count": 22,
   "metadata": {
    "scrolled": true
   },
   "outputs": [
    {
     "name": "stderr",
     "output_type": "stream",
     "text": [
      "\n",
      "  0%|          | 0/1000 [00:00<?, ?it/s]\u001b[A\n",
      " 16%|█▋        | 165/1000 [00:00<00:00, 1644.99it/s]\u001b[A\n",
      " 33%|███▎      | 326/1000 [00:00<00:00, 1628.98it/s]\u001b[A\n",
      " 45%|████▍     | 449/1000 [00:00<00:00, 1483.88it/s]\u001b[A\n",
      " 58%|█████▊    | 583/1000 [00:00<00:00, 1434.19it/s]\u001b[A\n",
      " 73%|███████▎  | 730/1000 [00:00<00:00, 1443.09it/s]\u001b[A\n",
      "100%|██████████| 1000/1000 [00:00<00:00, 1467.43it/s][A\n"
     ]
    }
   ],
   "source": [
    "ret = pool_worker(target=request_thrift, inputs=[1]*1000, num_worker=10)"
   ]
  },
  {
   "cell_type": "code",
   "execution_count": 11,
   "metadata": {},
   "outputs": [
    {
     "data": {
      "text/plain": [
       "100"
      ]
     },
     "execution_count": 11,
     "metadata": {},
     "output_type": "execute_result"
    }
   ],
   "source": [
    "len(ret)"
   ]
  },
  {
   "cell_type": "code",
   "execution_count": null,
   "metadata": {},
   "outputs": [],
   "source": []
  },
  {
   "cell_type": "code",
   "execution_count": 14,
   "metadata": {},
   "outputs": [
    {
     "name": "stdout",
     "output_type": "stream",
     "text": [
      "'Client' object has no attribute 'ping'\n"
     ]
    }
   ],
   "source": [
    "ping_thrift(1)"
   ]
  },
  {
   "cell_type": "code",
   "execution_count": null,
   "metadata": {},
   "outputs": [],
   "source": []
  }
 ],
 "metadata": {
  "kernelspec": {
   "display_name": "Python 3",
   "language": "python",
   "name": "python3"
  },
  "language_info": {
   "codemirror_mode": {
    "name": "ipython",
    "version": 3
   },
   "file_extension": ".py",
   "mimetype": "text/x-python",
   "name": "python",
   "nbconvert_exporter": "python",
   "pygments_lexer": "ipython3",
   "version": "3.6.8"
  }
 },
 "nbformat": 4,
 "nbformat_minor": 4
}
