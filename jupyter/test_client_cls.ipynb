{
 "cells": [
  {
   "cell_type": "code",
   "execution_count": 1,
   "metadata": {},
   "outputs": [],
   "source": [
    "import os\n",
    "import sys\n",
    "import json\n",
    "# sys.path.append('/media/congvm/DATA/Workspace/thrift4DL/')"
   ]
  },
  {
   "cell_type": "code",
   "execution_count": 2,
   "metadata": {},
   "outputs": [],
   "source": [
    "from thrift4DL.client import Client"
   ]
  },
  {
   "cell_type": "code",
   "execution_count": 3,
   "metadata": {},
   "outputs": [],
   "source": [
    "client = Client('10.40.34.15', 9093)"
   ]
  },
  {
   "cell_type": "code",
   "execution_count": null,
   "metadata": {},
   "outputs": [],
   "source": []
  },
  {
   "cell_type": "code",
   "execution_count": 8,
   "metadata": {},
   "outputs": [],
   "source": [
    "url = \"https://f10.group.zp.zdn.vn/1666445185667442009/846cb7955c5fa501fc4e.jpg\""
   ]
  },
  {
   "cell_type": "code",
   "execution_count": 64,
   "metadata": {},
   "outputs": [],
   "source": [
    "result = client.predict(url)"
   ]
  },
  {
   "cell_type": "code",
   "execution_count": 65,
   "metadata": {},
   "outputs": [
    {
     "data": {
      "text/plain": [
       "{'bboxes': [[121.8952865600586,\n",
       "   247.27146911621094,\n",
       "   216.5214080810547,\n",
       "   325.0744934082031,\n",
       "   0.9756097793579102],\n",
       "  [574.73486328125,\n",
       "   122.63443756103516,\n",
       "   616.4270629882812,\n",
       "   162.38011169433594,\n",
       "   0.956963300704956],\n",
       "  [430.9454650878906,\n",
       "   361.9993591308594,\n",
       "   483.1302795410156,\n",
       "   411.0762023925781,\n",
       "   0.9102389216423035]],\n",
       " 'landmarks': [[[146.4244842529297, 278.0538330078125],\n",
       "   [189.3892822265625, 274.993408203125],\n",
       "   [170.55592346191406, 287.3047790527344],\n",
       "   [155.32540893554688, 302.6827392578125],\n",
       "   [190.24859619140625, 300.5450744628906]],\n",
       "  [[585.1793212890625, 137.93780517578125],\n",
       "   [605.6795654296875, 137.3429718017578],\n",
       "   [595.5264892578125, 144.2455596923828],\n",
       "   [588.3318481445312, 152.23878479003906],\n",
       "   [603.2688598632812, 151.72653198242188]],\n",
       "  [[444.4568786621094, 375.9810791015625],\n",
       "   [469.16192626953125, 378.7333679199219],\n",
       "   [455.3464660644531, 384.9141845703125],\n",
       "   [443.6966247558594, 393.50006103515625],\n",
       "   [464.0691833496094, 395.619384765625]]],\n",
       " 'scale_ratio': 1.0}"
      ]
     },
     "execution_count": 65,
     "metadata": {},
     "output_type": "execute_result"
    }
   ],
   "source": [
    "json.loads(result.response)"
   ]
  },
  {
   "cell_type": "code",
   "execution_count": null,
   "metadata": {},
   "outputs": [],
   "source": []
  },
  {
   "cell_type": "code",
   "execution_count": 68,
   "metadata": {},
   "outputs": [
    {
     "name": "stdout",
     "output_type": "stream",
     "text": [
      "129 ms ± 5.91 ms per loop (mean ± std. dev. of 7 runs, 10 loops each)\n"
     ]
    }
   ],
   "source": [
    "%timeit -n 10 client.predict(url)"
   ]
  },
  {
   "cell_type": "code",
   "execution_count": null,
   "metadata": {},
   "outputs": [],
   "source": []
  }
 ],
 "metadata": {
  "kernelspec": {
   "display_name": "Python 3",
   "language": "python",
   "name": "python3"
  },
  "language_info": {
   "codemirror_mode": {
    "name": "ipython",
    "version": 3
   },
   "file_extension": ".py",
   "mimetype": "text/x-python",
   "name": "python",
   "nbconvert_exporter": "python",
   "pygments_lexer": "ipython3",
   "version": "3.6.8"
  }
 },
 "nbformat": 4,
 "nbformat_minor": 4
}
