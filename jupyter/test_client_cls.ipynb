{
 "cells": [
  {
   "cell_type": "code",
   "execution_count": 66,
   "metadata": {},
   "outputs": [],
   "source": [
    "import os\n",
    "import sys\n",
    "import json\n",
    "# sys.path.append('/media/congvm/DATA/Workspace/thrift4DL/')"
   ]
  },
  {
   "cell_type": "code",
   "execution_count": 67,
   "metadata": {},
   "outputs": [],
   "source": [
    "from thrift4DL.client import Client"
   ]
  },
  {
   "cell_type": "code",
   "execution_count": 75,
   "metadata": {},
   "outputs": [],
   "source": [
    "client = Client('10.40.34.15', 9092)"
   ]
  },
  {
   "cell_type": "code",
   "execution_count": 78,
   "metadata": {},
   "outputs": [],
   "source": [
    "url = \"https://f10.group.zp.zdn.vn/1666445185667442009/846cb7955c5fa501fc4e.jpg\""
   ]
  },
  {
   "cell_type": "code",
   "execution_count": 144,
   "metadata": {},
   "outputs": [],
   "source": [
    "result = client.predict(url)"
   ]
  },
  {
   "cell_type": "code",
   "execution_count": 145,
   "metadata": {},
   "outputs": [
    {
     "data": {
      "text/plain": [
       "{'bboxes': [[108.13645935058594,\n",
       "   498.7623291015625,\n",
       "   202.183349609375,\n",
       "   630.138916015625,\n",
       "   0.9983880519866943],\n",
       "  [391.5731201171875,\n",
       "   725.100341796875,\n",
       "   451.0445556640625,\n",
       "   803.53271484375,\n",
       "   0.9979671835899353]],\n",
       " 'landmarks': [[[132.39256286621094, 555.5906982421875],\n",
       "   [177.0012969970703, 550.80126953125],\n",
       "   [157.503173828125, 579.9226684570312],\n",
       "   [140.5661163330078, 598.0697021484375],\n",
       "   [178.93870544433594, 593.9950561523438]],\n",
       "  [[406.73419189453125, 756.230224609375],\n",
       "   [435.2640075683594, 759.3754272460938],\n",
       "   [418.6774597167969, 774.6951904296875],\n",
       "   [406.5294189453125, 782.4871826171875],\n",
       "   [431.4599914550781, 784.9652099609375]]],\n",
       " 'scale_ratio': 0.5435244161358811}"
      ]
     },
     "execution_count": 145,
     "metadata": {},
     "output_type": "execute_result"
    }
   ],
   "source": [
    "json.loads(result.response)"
   ]
  },
  {
   "cell_type": "code",
   "execution_count": null,
   "metadata": {},
   "outputs": [],
   "source": []
  },
  {
   "cell_type": "code",
   "execution_count": 116,
   "metadata": {},
   "outputs": [
    {
     "name": "stdout",
     "output_type": "stream",
     "text": [
      "277 ms ± 24.2 ms per loop (mean ± std. dev. of 7 runs, 1 loop each)\n"
     ]
    }
   ],
   "source": [
    "%timeit client.predict(url)"
   ]
  },
  {
   "cell_type": "code",
   "execution_count": null,
   "metadata": {},
   "outputs": [],
   "source": []
  }
 ],
 "metadata": {
  "kernelspec": {
   "display_name": "Python 3",
   "language": "python",
   "name": "python3"
  },
  "language_info": {
   "codemirror_mode": {
    "name": "ipython",
    "version": 3
   },
   "file_extension": ".py",
   "mimetype": "text/x-python",
   "name": "python",
   "nbconvert_exporter": "python",
   "pygments_lexer": "ipython3",
   "version": "3.6.8"
  }
 },
 "nbformat": 4,
 "nbformat_minor": 4
}
