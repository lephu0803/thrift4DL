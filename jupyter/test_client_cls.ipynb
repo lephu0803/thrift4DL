{
 "cells": [
  {
   "cell_type": "code",
   "execution_count": 68,
   "metadata": {},
   "outputs": [],
   "source": [
    "import os\n",
    "import sys\n",
    "import json\n",
    "from thrift4DL.client import Client\n",
    "client = Client('10.40.34.15', 9093)\n",
    "url = \"https://f10.group.zp.zdn.vn/1666445185667442009/846cb7955c5fa501fc4e.jpg\"\n",
    "result = client.predict(url)\n",
    "json.loads(result.response)\n",
    "\n",
    "%timeit -n 10 client.predict(url)"
   ]
  },
  {
   "cell_type": "code",
   "execution_count": null,
   "metadata": {},
   "outputs": [],
   "source": []
  }
 ],
 "metadata": {
  "kernelspec": {
   "display_name": "Python 3",
   "language": "python",
   "name": "python3"
  },
  "language_info": {
   "codemirror_mode": {
    "name": "ipython",
    "version": 3
   },
   "file_extension": ".py",
   "mimetype": "text/x-python",
   "name": "python",
   "nbconvert_exporter": "python",
   "pygments_lexer": "ipython3",
   "version": "3.6.8"
  }
 },
 "nbformat": 4,
 "nbformat_minor": 4
}
