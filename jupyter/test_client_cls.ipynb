{
 "cells": [
  {
   "cell_type": "code",
   "execution_count": 1,
   "metadata": {},
   "outputs": [],
   "source": [
    "import os\n",
    "import sys\n",
    "import json\n",
    "from thrift4DL.client import VisionClient\n",
    "import matplotlib.pyplot as plt"
   ]
  },
  {
   "cell_type": "code",
   "execution_count": 2,
   "metadata": {},
   "outputs": [],
   "source": [
    "client = VisionClient(host='10.40.34.15', port=9093)"
   ]
  },
  {
   "cell_type": "code",
   "execution_count": 3,
   "metadata": {},
   "outputs": [],
   "source": [
    "from zaailabcorelib.ztools.image import load_image, encode_image"
   ]
  },
  {
   "cell_type": "code",
   "execution_count": 4,
   "metadata": {},
   "outputs": [],
   "source": [
    "url = \"https://f10.group.zp.zdn.vn/1666445185667442009/846cb7955c5fa501fc4e.jpg\""
   ]
  },
  {
   "cell_type": "code",
   "execution_count": 5,
   "metadata": {},
   "outputs": [],
   "source": [
    "img_arr = load_image(url, proxy='10.40.34.14:81')"
   ]
  },
  {
   "cell_type": "code",
   "execution_count": null,
   "metadata": {},
   "outputs": [],
   "source": [
    "plt.imshow(img_arr)"
   ]
  },
  {
   "cell_type": "code",
   "execution_count": 27,
   "metadata": {},
   "outputs": [],
   "source": [
    "img_hex = encode_image(img_arr)"
   ]
  },
  {
   "cell_type": "code",
   "execution_count": 59,
   "metadata": {},
   "outputs": [
    {
     "name": "stdout",
     "output_type": "stream",
     "text": [
      "Traceback (most recent call last):\n",
      "  File \"/zserver/AI-projects/.virtualenvs/dl-py3/lib/python3.6/site-packages/thrift4DL-2.1-py3.6.egg/thrift4DL/client/client.py\", line 68, in predict\n",
      "    ret = self.client.predict(image_binary)\n",
      "  File \"/zserver/AI-projects/.virtualenvs/dl-py3/lib/python3.6/site-packages/thrift4DL-2.1-py3.6.egg/thrift4DL/client/thrift4DL/Thrift4DLService.py\", line 48, in predict\n",
      "    return self.recv_predict()\n",
      "  File \"/zserver/AI-projects/.virtualenvs/dl-py3/lib/python3.6/site-packages/thrift4DL-2.1-py3.6.egg/thrift4DL/client/thrift4DL/Thrift4DLService.py\", line 65, in recv_predict\n",
      "    raise x\n",
      "thrift.Thrift.TApplicationException: Internal error\n",
      "\n"
     ]
    }
   ],
   "source": [
    "result = client.predict(img_hex)\n",
    "# json.loads(result.response)\n",
    "# %timeit -n 10 client.predict(url)"
   ]
  },
  {
   "cell_type": "code",
   "execution_count": 217,
   "metadata": {},
   "outputs": [
    {
     "data": {
      "text/plain": [
       "TVisionResult(error_code=0, error_message=None, response='{\"bboxes\": [[71.39871418476105, 144.87344026565552, 126.8607974052429, 190.44587016105652, 0.9761421084403992], [252.4850249290466, 212.0782434940338, 283.0192029476166, 240.84016084671018, 0.9134213924407959]], \"landmarks\": [[[85.82008361816406, 162.89585876464844], [110.99136352539062, 161.1151885986328], [99.98473358154297, 168.2864990234375], [91.03118896484375, 177.30450439453125], [111.50106811523438, 176.06300354003906]], [[260.3978576660156, 220.2680206298828], [274.85284423828125, 221.87452697753906], [266.7701721191406, 225.4855499267578], [259.9481506347656, 230.53518676757812], [271.84539794921875, 231.77044677734375]]], \"scale_ratio\": 1.0}')"
      ]
     },
     "execution_count": 217,
     "metadata": {},
     "output_type": "execute_result"
    }
   ],
   "source": [
    "result"
   ]
  },
  {
   "cell_type": "code",
   "execution_count": null,
   "metadata": {},
   "outputs": [],
   "source": []
  },
  {
   "cell_type": "code",
   "execution_count": 220,
   "metadata": {},
   "outputs": [
    {
     "name": "stdout",
     "output_type": "stream",
     "text": [
      "50.2 ms ± 833 µs per loop (mean ± std. dev. of 7 runs, 10 loops each)\n"
     ]
    }
   ],
   "source": [
    "%timeit result = client.predict(img_hex)"
   ]
  },
  {
   "cell_type": "code",
   "execution_count": null,
   "metadata": {},
   "outputs": [],
   "source": []
  }
 ],
 "metadata": {
  "kernelspec": {
   "display_name": "Python 3",
   "language": "python",
   "name": "python3"
  },
  "language_info": {
   "codemirror_mode": {
    "name": "ipython",
    "version": 3
   },
   "file_extension": ".py",
   "mimetype": "text/x-python",
   "name": "python",
   "nbconvert_exporter": "python",
   "pygments_lexer": "ipython3",
   "version": "3.7.4"
  }
 },
 "nbformat": 4,
 "nbformat_minor": 4
}
